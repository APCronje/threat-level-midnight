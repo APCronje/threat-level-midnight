{
 "cells": [
  {
   "cell_type": "code",
   "execution_count": 1,
   "id": "c8fcc224",
   "metadata": {
    "_cell_guid": "b1076dfc-b9ad-4769-8c92-a6c4dae69d19",
    "_uuid": "8f2839f25d086af736a60e9eeb907d3b93b6e0e5",
    "execution": {
     "iopub.execute_input": "2024-01-08T15:18:30.911244Z",
     "iopub.status.busy": "2024-01-08T15:18:30.910767Z",
     "iopub.status.idle": "2024-01-08T15:18:31.365977Z",
     "shell.execute_reply": "2024-01-08T15:18:31.364438Z"
    },
    "papermill": {
     "duration": 0.463164,
     "end_time": "2024-01-08T15:18:31.368762",
     "exception": false,
     "start_time": "2024-01-08T15:18:30.905598",
     "status": "completed"
    },
    "tags": []
   },
   "outputs": [
    {
     "name": "stdout",
     "output_type": "stream",
     "text": [
      "/kaggle/input/titanic/train.csv\n",
      "/kaggle/input/titanic/test.csv\n",
      "/kaggle/input/titanic/gender_submission.csv\n"
     ]
    }
   ],
   "source": [
    "# This Python 3 environment comes with many helpful analytics libraries installed\n",
    "# It is defined by the kaggle/python Docker image: https://github.com/kaggle/docker-python\n",
    "# For example, here's several helpful packages to load\n",
    "\n",
    "import numpy as np # linear algebra\n",
    "import pandas as pd # data processing, CSV file I/O (e.g. pd.read_csv)\n",
    "\n",
    "# Input data files are available in the read-only \"../input/\" directory\n",
    "# For example, running this (by clicking run or pressing Shift+Enter) will list all files under the input directory\n",
    "\n",
    "import os\n",
    "for dirname, _, filenames in os.walk('/kaggle/input'):\n",
    "    for filename in filenames:\n",
    "        print(os.path.join(dirname, filename))\n",
    "\n",
    "# You can write up to 20GB to the current directory (/kaggle/working/) that gets preserved as output when you create a version using \"Save & Run All\" \n",
    "# You can also write temporary files to /kaggle/temp/, but they won't be saved outside of the current session"
   ]
  },
  {
   "cell_type": "code",
   "execution_count": 2,
   "id": "60cf6d28",
   "metadata": {
    "execution": {
     "iopub.execute_input": "2024-01-08T15:18:31.376992Z",
     "iopub.status.busy": "2024-01-08T15:18:31.375915Z",
     "iopub.status.idle": "2024-01-08T15:18:31.402260Z",
     "shell.execute_reply": "2024-01-08T15:18:31.400530Z"
    },
    "papermill": {
     "duration": 0.033541,
     "end_time": "2024-01-08T15:18:31.405291",
     "exception": false,
     "start_time": "2024-01-08T15:18:31.371750",
     "status": "completed"
    },
    "tags": []
   },
   "outputs": [],
   "source": [
    "train = pd.read_csv('/kaggle/input/titanic/train.csv')"
   ]
  },
  {
   "cell_type": "code",
   "execution_count": 3,
   "id": "70d6bc74",
   "metadata": {
    "execution": {
     "iopub.execute_input": "2024-01-08T15:18:31.412630Z",
     "iopub.status.busy": "2024-01-08T15:18:31.412209Z",
     "iopub.status.idle": "2024-01-08T15:18:31.448087Z",
     "shell.execute_reply": "2024-01-08T15:18:31.446850Z"
    },
    "papermill": {
     "duration": 0.042676,
     "end_time": "2024-01-08T15:18:31.450847",
     "exception": false,
     "start_time": "2024-01-08T15:18:31.408171",
     "status": "completed"
    },
    "tags": []
   },
   "outputs": [
    {
     "name": "stdout",
     "output_type": "stream",
     "text": [
      "<class 'pandas.core.frame.DataFrame'>\n",
      "RangeIndex: 891 entries, 0 to 890\n",
      "Data columns (total 12 columns):\n",
      " #   Column       Non-Null Count  Dtype  \n",
      "---  ------       --------------  -----  \n",
      " 0   PassengerId  891 non-null    int64  \n",
      " 1   Survived     891 non-null    int64  \n",
      " 2   Pclass       891 non-null    int64  \n",
      " 3   Name         891 non-null    object \n",
      " 4   Sex          891 non-null    object \n",
      " 5   Age          714 non-null    float64\n",
      " 6   SibSp        891 non-null    int64  \n",
      " 7   Parch        891 non-null    int64  \n",
      " 8   Ticket       891 non-null    object \n",
      " 9   Fare         891 non-null    float64\n",
      " 10  Cabin        204 non-null    object \n",
      " 11  Embarked     889 non-null    object \n",
      "dtypes: float64(2), int64(5), object(5)\n",
      "memory usage: 83.7+ KB\n"
     ]
    }
   ],
   "source": [
    "train.info()"
   ]
  },
  {
   "cell_type": "code",
   "execution_count": null,
   "id": "b95b101c",
   "metadata": {
    "papermill": {
     "duration": 0.002724,
     "end_time": "2024-01-08T15:18:31.456478",
     "exception": false,
     "start_time": "2024-01-08T15:18:31.453754",
     "status": "completed"
    },
    "tags": []
   },
   "outputs": [],
   "source": []
  }
 ],
 "metadata": {
  "kaggle": {
   "accelerator": "none",
   "dataSources": [
    {
     "databundleVersionId": 26502,
     "sourceId": 3136,
     "sourceType": "competition"
    }
   ],
   "dockerImageVersionId": 30626,
   "isGpuEnabled": false,
   "isInternetEnabled": false,
   "language": "python",
   "sourceType": "notebook"
  },
  "kernelspec": {
   "display_name": "Python 3",
   "language": "python",
   "name": "python3"
  },
  "language_info": {
   "codemirror_mode": {
    "name": "ipython",
    "version": 3
   },
   "file_extension": ".py",
   "mimetype": "text/x-python",
   "name": "python",
   "nbconvert_exporter": "python",
   "pygments_lexer": "ipython3",
   "version": "3.10.12"
  },
  "papermill": {
   "default_parameters": {},
   "duration": 4.600682,
   "end_time": "2024-01-08T15:18:31.979369",
   "environment_variables": {},
   "exception": null,
   "input_path": "__notebook__.ipynb",
   "output_path": "__notebook__.ipynb",
   "parameters": {},
   "start_time": "2024-01-08T15:18:27.378687",
   "version": "2.4.0"
  }
 },
 "nbformat": 4,
 "nbformat_minor": 5
}
